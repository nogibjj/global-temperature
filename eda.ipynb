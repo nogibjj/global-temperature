{
 "cells": [
  {
   "cell_type": "markdown",
   "metadata": {},
   "source": [
    "# Global Tempeature Data\n",
    "\n",
    "The earth is warming by a lot, but physically it may feel different for someone living in Stockholm than it is for another in Tokyo. This notebook aims to visually understand this better and further inform our project."
   ]
  },
  {
   "cell_type": "code",
   "execution_count": 4,
   "metadata": {},
   "outputs": [],
   "source": [
    "# import the dask libraries\n",
    "import dask\n",
    "import dask.dataframe as dd\n",
    "from dask.distributed import LocalCluster, Client\n",
    "\n",
    "#import graphing libraries\n",
    "import seaborn as sns"
   ]
  },
  {
   "cell_type": "code",
   "execution_count": 2,
   "metadata": {},
   "outputs": [],
   "source": [
    "major_cities = dd.read_csv('GlobalTemp/GlobalLandTemperaturesByMajorCity.csv')"
   ]
  },
  {
   "cell_type": "code",
   "execution_count": 3,
   "metadata": {},
   "outputs": [
    {
     "data": {
      "text/html": [
       "<div>\n",
       "<style scoped>\n",
       "    .dataframe tbody tr th:only-of-type {\n",
       "        vertical-align: middle;\n",
       "    }\n",
       "\n",
       "    .dataframe tbody tr th {\n",
       "        vertical-align: top;\n",
       "    }\n",
       "\n",
       "    .dataframe thead th {\n",
       "        text-align: right;\n",
       "    }\n",
       "</style>\n",
       "<table border=\"1\" class=\"dataframe\">\n",
       "  <thead>\n",
       "    <tr style=\"text-align: right;\">\n",
       "      <th></th>\n",
       "      <th>dt</th>\n",
       "      <th>AverageTemperature</th>\n",
       "      <th>AverageTemperatureUncertainty</th>\n",
       "      <th>City</th>\n",
       "      <th>Country</th>\n",
       "      <th>Latitude</th>\n",
       "      <th>Longitude</th>\n",
       "    </tr>\n",
       "  </thead>\n",
       "  <tbody>\n",
       "    <tr>\n",
       "      <th>0</th>\n",
       "      <td>1849-01-01</td>\n",
       "      <td>26.704</td>\n",
       "      <td>1.435</td>\n",
       "      <td>Abidjan</td>\n",
       "      <td>Côte D'Ivoire</td>\n",
       "      <td>5.63N</td>\n",
       "      <td>3.23W</td>\n",
       "    </tr>\n",
       "    <tr>\n",
       "      <th>1</th>\n",
       "      <td>1849-02-01</td>\n",
       "      <td>27.434</td>\n",
       "      <td>1.362</td>\n",
       "      <td>Abidjan</td>\n",
       "      <td>Côte D'Ivoire</td>\n",
       "      <td>5.63N</td>\n",
       "      <td>3.23W</td>\n",
       "    </tr>\n",
       "    <tr>\n",
       "      <th>2</th>\n",
       "      <td>1849-03-01</td>\n",
       "      <td>28.101</td>\n",
       "      <td>1.612</td>\n",
       "      <td>Abidjan</td>\n",
       "      <td>Côte D'Ivoire</td>\n",
       "      <td>5.63N</td>\n",
       "      <td>3.23W</td>\n",
       "    </tr>\n",
       "    <tr>\n",
       "      <th>3</th>\n",
       "      <td>1849-04-01</td>\n",
       "      <td>26.140</td>\n",
       "      <td>1.387</td>\n",
       "      <td>Abidjan</td>\n",
       "      <td>Côte D'Ivoire</td>\n",
       "      <td>5.63N</td>\n",
       "      <td>3.23W</td>\n",
       "    </tr>\n",
       "    <tr>\n",
       "      <th>4</th>\n",
       "      <td>1849-05-01</td>\n",
       "      <td>25.427</td>\n",
       "      <td>1.200</td>\n",
       "      <td>Abidjan</td>\n",
       "      <td>Côte D'Ivoire</td>\n",
       "      <td>5.63N</td>\n",
       "      <td>3.23W</td>\n",
       "    </tr>\n",
       "  </tbody>\n",
       "</table>\n",
       "</div>"
      ],
      "text/plain": [
       "           dt  AverageTemperature  AverageTemperatureUncertainty     City  \\\n",
       "0  1849-01-01              26.704                          1.435  Abidjan   \n",
       "1  1849-02-01              27.434                          1.362  Abidjan   \n",
       "2  1849-03-01              28.101                          1.612  Abidjan   \n",
       "3  1849-04-01              26.140                          1.387  Abidjan   \n",
       "4  1849-05-01              25.427                          1.200  Abidjan   \n",
       "\n",
       "         Country Latitude Longitude  \n",
       "0  Côte D'Ivoire    5.63N     3.23W  \n",
       "1  Côte D'Ivoire    5.63N     3.23W  \n",
       "2  Côte D'Ivoire    5.63N     3.23W  \n",
       "3  Côte D'Ivoire    5.63N     3.23W  \n",
       "4  Côte D'Ivoire    5.63N     3.23W  "
      ]
     },
     "execution_count": 3,
     "metadata": {},
     "output_type": "execute_result"
    }
   ],
   "source": [
    "major_cities.head()"
   ]
  },
  {
   "cell_type": "code",
   "execution_count": null,
   "metadata": {},
   "outputs": [],
   "source": [
    "# Create a Dask Client\n",
    "cluster = LocalCluster()\n",
    "client = Client(cluster)\n",
    "client()"
   ]
  },
  {
   "cell_type": "code",
   "execution_count": null,
   "metadata": {},
   "outputs": [],
   "source": []
  },
  {
   "cell_type": "code",
   "execution_count": null,
   "metadata": {},
   "outputs": [],
   "source": [
    "# close the client\n",
    "client.close()"
   ]
  }
 ],
 "metadata": {
  "kernelspec": {
   "display_name": "venv",
   "language": "python",
   "name": "venv"
  },
  "language_info": {
   "codemirror_mode": {
    "name": "ipython",
    "version": 3
   },
   "file_extension": ".py",
   "mimetype": "text/x-python",
   "name": "python",
   "nbconvert_exporter": "python",
   "pygments_lexer": "ipython3",
   "version": "3.10.6"
  },
  "orig_nbformat": 4,
  "vscode": {
   "interpreter": {
    "hash": "ac6dcd399ab8cd2ecc0f6e8f154efd75b4aa37c8093b73598011b1aae01f02fe"
   }
  }
 },
 "nbformat": 4,
 "nbformat_minor": 2
}
